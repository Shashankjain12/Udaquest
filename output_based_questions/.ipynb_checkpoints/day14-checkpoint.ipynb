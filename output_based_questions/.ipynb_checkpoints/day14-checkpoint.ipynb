{
 "cells": [
  {
   "cell_type": "markdown",
   "metadata": {},
   "source": [
    "<h1><center>Output Based Questions</center></h1>\n",
    "\n",
    "<img src=\"./images/day14_1.png\"></img>"
   ]
  },
  {
   "cell_type": "markdown",
   "metadata": {},
   "source": [
    "<img src=\"./images/day14_2.png\"></img>"
   ]
  },
  {
   "cell_type": "code",
   "execution_count": 1,
   "metadata": {
    "collapsed": true
   },
   "outputs": [],
   "source": [
    "txt = '''450\n",
    " 00:17:53,457 --> 00:17:56,175\n",
    " Okay, but, um,\n",
    " thanks for being with us.\n",
    "\n",
    "451\n",
    " 00:17:56,175 --> 00:17:58,616\n",
    " But, um, if there's any\n",
    " college kids watching,\n",
    "\n",
    "452\n",
    " 00:17:58,616 --> 00:18:01,610\n",
    " But, um, but, um, but, um,\n",
    " but, um, but, um,\n",
    "\n",
    "453\n",
    " 00:18:01,610 --> 00:18:03,656\n",
    " We have to drink, professor.\n",
    "\n",
    "454\n",
    " 00:18:03,656 --> 00:18:07,507\n",
    " It's the rules.\n",
    " She said \"But, um\"\n",
    "\n",
    "455\n",
    " 00:18:09,788 --> 00:18:12,515\n",
    " But, um, but, um, but, um...\n",
    " god help us all.\n",
    " '''"
   ]
  },
  {
   "cell_type": "code",
   "execution_count": 4,
   "metadata": {},
   "outputs": [
    {
     "data": {
      "text/plain": [
       "11"
      ]
     },
     "execution_count": 4,
     "metadata": {},
     "output_type": "execute_result"
    }
   ],
   "source": [
    "import re\n",
    "len(re.findall('[B,b]ut, um',txt ))"
   ]
  },
  {
   "cell_type": "code",
   "execution_count": 5,
   "metadata": {
    "collapsed": true
   },
   "outputs": [],
   "source": [
    "#1 Answer=C"
   ]
  },
  {
   "cell_type": "markdown",
   "metadata": {},
   "source": [
    "<img src=\"./images/day14_3.png\"></img>"
   ]
  },
  {
   "cell_type": "code",
   "execution_count": 12,
   "metadata": {},
   "outputs": [
    {
     "name": "stdout",
     "output_type": "stream",
     "text": [
      "aaa\n",
      "bbb\n",
      "ccc\n",
      "ddd\n",
      "eee\n"
     ]
    }
   ],
   "source": [
    "str = \"\"\"\n",
    "Email_Address,Nickname,Group_Status,Join_Year\n",
    "aa@aaa.com,aa,Owner,2014\n",
    "bb@bbb.com,bb,Member,2015\n",
    "cc@ccc.com,cc,Member,2017\n",
    "dd@ddd.com,dd,Member,2016\n",
    "ee@eee.com,ee,Member,2020\n",
    "\"\"\"\n",
    "\n",
    "for i in re.finditer('([a-zA-Z]+)@([a-zA-z]+).(com)',str):\n",
    "    print(i.group(2))\n",
    "    \n",
    "#Answer C"
   ]
  },
  {
   "cell_type": "markdown",
   "metadata": {},
   "source": [
    "<img src=\"./images/day14_4.png\"></img>"
   ]
  },
  {
   "cell_type": "code",
   "execution_count": 109,
   "metadata": {},
   "outputs": [],
   "source": [
    "temp=[]\n",
    "str1=\"\"\"Andy,\n",
    "Mandi,\n",
    "Sandy,\n",
    "Hollie,\n",
    "Molly,\n",
    "Dollie,\"\"\"\n",
    "for i in re.finditer(\"(i|ie)(,)\",str1):\n",
    "    temp.append(i.group(1))\n",
    "    "
   ]
  },
  {
   "cell_type": "code",
   "execution_count": 110,
   "metadata": {},
   "outputs": [
    {
     "data": {
      "text/plain": [
       "['i', 'ie', 'ie']"
      ]
     },
     "execution_count": 110,
     "metadata": {},
     "output_type": "execute_result"
    }
   ],
   "source": [
    "temp\n",
    "#answer A"
   ]
  },
  {
   "cell_type": "markdown",
   "metadata": {},
   "source": [
    "<img src=\"./images/day14_5.png\"></img>"
   ]
  },
  {
   "cell_type": "code",
   "execution_count": 111,
   "metadata": {},
   "outputs": [],
   "source": [
    "a=[1,2,3,4,5]\n",
    "b=[6,7,8,9]\n",
    "\n",
    "a.extend(b)\n",
    "#answer  B"
   ]
  },
  {
   "cell_type": "code",
   "execution_count": 112,
   "metadata": {},
   "outputs": [
    {
     "data": {
      "text/plain": [
       "[1, 2, 3, 4, 5, 6, 7, 8, 9]"
      ]
     },
     "execution_count": 112,
     "metadata": {},
     "output_type": "execute_result"
    }
   ],
   "source": [
    "a"
   ]
  },
  {
   "cell_type": "markdown",
   "metadata": {},
   "source": [
    "<img src=\"./images/day14_6.png\"></img>"
   ]
  },
  {
   "cell_type": "code",
   "execution_count": 118,
   "metadata": {},
   "outputs": [],
   "source": [
    "import pickle as pkl\n",
    "pkl.dump(model,\"file\")\n",
    "#Answer C"
   ]
  },
  {
   "cell_type": "markdown",
   "metadata": {},
   "source": [
    "<img src=\"./images/day14_7.png\"></img>"
   ]
  },
  {
   "cell_type": "code",
   "execution_count": 123,
   "metadata": {},
   "outputs": [],
   "source": [
    "import time\n",
    "str=\"21/01/2017\"\n",
    "dt_vale=time.strptime(str,\"%d/%m/%Y\")"
   ]
  },
  {
   "cell_type": "code",
   "execution_count": 124,
   "metadata": {},
   "outputs": [
    {
     "data": {
      "text/plain": [
       "time.struct_time(tm_year=2017, tm_mon=1, tm_mday=21, tm_hour=0, tm_min=0, tm_sec=0, tm_wday=5, tm_yday=21, tm_isdst=-1)"
      ]
     },
     "execution_count": 124,
     "metadata": {},
     "output_type": "execute_result"
    }
   ],
   "source": [
    "dt_vale\n",
    "# ANSWER  D"
   ]
  },
  {
   "cell_type": "markdown",
   "metadata": {},
   "source": [
    "<img src=\"./images/day14_8.png\"></img>"
   ]
  },
  {
   "cell_type": "code",
   "execution_count": 126,
   "metadata": {},
   "outputs": [
    {
     "data": {
      "text/plain": [
       "array([[1., 0., 0.],\n",
       "       [0., 1., 0.],\n",
       "       [0., 0., 1.]])"
      ]
     },
     "execution_count": 126,
     "metadata": {},
     "output_type": "execute_result"
    }
   ],
   "source": [
    "import numpy as np\n",
    "np.eye(3)\n",
    "#Answer A"
   ]
  },
  {
   "cell_type": "markdown",
   "metadata": {},
   "source": [
    "<img src=\"./images/day14_9.png\"></img>"
   ]
  },
  {
   "cell_type": "code",
   "execution_count": 130,
   "metadata": {
    "collapsed": true
   },
   "outputs": [],
   "source": [
    "# Answer C\n"
   ]
  },
  {
   "cell_type": "markdown",
   "metadata": {},
   "source": [
    "<img src=\"./images/day14_10.png\"></img>"
   ]
  },
  {
   "cell_type": "code",
   "execution_count": 132,
   "metadata": {
    "collapsed": true
   },
   "outputs": [],
   "source": [
    "train_set = np.array([1, 2, 3])\n",
    "test_set = np.array([[0, 1, 2], [1, 2, 3]])"
   ]
  },
  {
   "cell_type": "code",
   "execution_count": 135,
   "metadata": {},
   "outputs": [],
   "source": [
    "resulting_set=np.vstack([train_set,test_set])"
   ]
  },
  {
   "cell_type": "code",
   "execution_count": 136,
   "metadata": {},
   "outputs": [
    {
     "data": {
      "text/plain": [
       "array([[1, 2, 3],\n",
       "       [0, 1, 2],\n",
       "       [1, 2, 3]])"
      ]
     },
     "execution_count": 136,
     "metadata": {},
     "output_type": "execute_result"
    }
   ],
   "source": [
    "resulting_set"
   ]
  },
  {
   "cell_type": "code",
   "execution_count": 137,
   "metadata": {
    "collapsed": true
   },
   "outputs": [],
   "source": [
    "#Answer--> C"
   ]
  },
  {
   "cell_type": "code",
   "execution_count": null,
   "metadata": {
    "collapsed": true
   },
   "outputs": [],
   "source": []
  }
 ],
 "metadata": {
  "kernelspec": {
   "display_name": "Python 3",
   "language": "python",
   "name": "python3"
  },
  "language_info": {
   "codemirror_mode": {
    "name": "ipython",
    "version": 3
   },
   "file_extension": ".py",
   "mimetype": "text/x-python",
   "name": "python",
   "nbconvert_exporter": "python",
   "pygments_lexer": "ipython3",
   "version": "3.6.8"
  }
 },
 "nbformat": 4,
 "nbformat_minor": 2
}

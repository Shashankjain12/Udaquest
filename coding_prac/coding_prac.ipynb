{
 "cells": [
  {
   "cell_type": "markdown",
   "metadata": {},
   "source": [
    "\n",
    "\n",
    "### Question 1.\n",
    "\n",
    "Given an unsorted array A of size N of non-negative integers, find a continuous sub-array which adds to a given number S.\n",
    "\n",
    "#### Input:\n",
    "\n",
    "The first line of input contains an integer T denoting the number of test cases. Then T test cases follow. Each test case \n",
    "\n",
    "consists of two lines. The first line of each test case is N and S, where N is the size of array and S is the sum. The \n",
    "\n",
    "second line of each test case contains N space separated integers denoting the array elements.\n",
    "\n",
    "\n",
    "#### Output:\n",
    "\n",
    "For each testcase, in a new line, print the starting and ending positions(1 indexing) of first such occuring subarray \n",
    "\n",
    "from the left if sum equals to subarray, else print -1.\n",
    "\n",
    "#### Constraints:\n",
    "\n",
    "1 <= T <= 100\n",
    "\n",
    "1 <= N <= 107\n",
    "\n",
    "1 <= Ai <= 1010\n",
    "\n",
    "\n",
    "#### Example:\n",
    "\n",
    "#### Input:\n",
    "\n",
    "2\n",
    "\n",
    "5 12\n",
    "\n",
    "1 2 3 7 5\n",
    "\n",
    "10 15\n",
    "\n",
    "1 2 3 4 5 6 7 8 9 10\n",
    "\n",
    "#### Output:\n",
    "\n",
    "2 4\n",
    "\n",
    "1 5\n",
    "\n",
    "\n",
    "Explanation :\n",
    "\n",
    "Testcase1: sum of elements from 2nd position to 4th position is 12\n",
    "\n",
    "Testcase2: sum of elements from 1st position to 5th position is 15\n",
    "\n",
    "** For More Input/Output Examples Use 'Expected Output' option **\n"
   ]
  },
  {
   "cell_type": "code",
   "execution_count": null,
   "metadata": {
    "collapsed": true
   },
   "outputs": [],
   "source": []
  },
  {
   "cell_type": "code",
   "execution_count": null,
   "metadata": {
    "collapsed": true
   },
   "outputs": [],
   "source": []
  }
 ],
 "metadata": {
  "kernelspec": {
   "display_name": "Python 3",
   "language": "python",
   "name": "python3"
  },
  "language_info": {
   "codemirror_mode": {
    "name": "ipython",
    "version": 3
   },
   "file_extension": ".py",
   "mimetype": "text/x-python",
   "name": "python",
   "nbconvert_exporter": "python",
   "pygments_lexer": "ipython3",
   "version": "3.6.8"
  }
 },
 "nbformat": 4,
 "nbformat_minor": 2
}

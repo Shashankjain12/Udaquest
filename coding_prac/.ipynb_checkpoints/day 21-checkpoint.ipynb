{
 "cells": [
  {
   "cell_type": "markdown",
   "metadata": {},
   "source": [
    "<h1><center>Questions</center></h1>\n",
    "\n",
    "<h2>Sum of bit differences among all pairs</h2>\n",
    "\n",
    "Given an integer array of n integers, find sum of bit differences in all pairs that can be formed from array elements.\n",
    "\n",
    "Bit difference of a pair (x, y) is count of different bits at same positions in binary representations of x and y.\n",
    "\n",
    "For example, bit difference for 2 and 7 is 2. Binary representation of 2 is 010 and 7 is 111 ( first and last bits differ in two numbers).\n",
    "\n",
    "Examples :\n",
    "\n",
    " Input: arr[] = {1, 2}\n",
    "\n",
    "Output: 4\n",
    "\n",
    "All pairs in array are (1, 1), (1, 2)\n",
    "                       (2, 1), (2, 2)\n",
    "\n",
    "Sum of bit differences = 0 + 2 +2 + 0\n",
    "                      = 4\n",
    "\n",
    "Input:  arr[] = {1, 3, 5}\n",
    "\n",
    "Output: 8\n",
    "\n",
    "All pairs in array are (1, 1), (1, 3), (1, 5)\n",
    "                       (3, 1), (3, 3) (3, 5),\n",
    "                       (5, 1), (5, 3), (5, 5)\n",
    "\n",
    "Sum of bit differences =  0 + 1 + 1 +\n",
    "                          1 + 0 + 2 +\n",
    "                          1 + 2 + 0 \n",
    "                           = 8 \n"
   ]
  },
  {
   "cell_type": "code",
   "execution_count": 87,
   "metadata": {},
   "outputs": [
    {
     "name": "stdout",
     "output_type": "stream",
     "text": [
      "3,4\n"
     ]
    }
   ],
   "source": [
    "a=list(map(int,input().split(\",\")))"
   ]
  },
  {
   "cell_type": "code",
   "execution_count": 88,
   "metadata": {
    "scrolled": true
   },
   "outputs": [],
   "source": [
    "import itertools\n",
    "b=[]\n",
    "for i in range(0,len(a)+1):\n",
    "    for j in itertools.permutations(a,i):\n",
    "            if len(j)>=1:\n",
    "                b.append(j)"
   ]
  },
  {
   "cell_type": "code",
   "execution_count": 89,
   "metadata": {},
   "outputs": [],
   "source": [
    "sum=0\n",
    "for i in b:\n",
    "    if len(i)>1:\n",
    "        c,d=i\n",
    "        c=str(bin(c))[2:]\n",
    "        d=str(bin(d))[2:]\n",
    "        if len(c)>len(d):\n",
    "            d=\"0\"+d\n",
    "            for j in range(0,len(d)):\n",
    "                if c[j]!=d[j]:\n",
    "                    sum+=1\n",
    "        else:\n",
    "            c=\"0\"+c\n",
    "            for j in range(0,len(c)):\n",
    "                if c[j]!=d[j]:\n",
    "                    sum+=1"
   ]
  },
  {
   "cell_type": "code",
   "execution_count": 90,
   "metadata": {},
   "outputs": [
    {
     "data": {
      "text/plain": [
       "6"
      ]
     },
     "execution_count": 90,
     "metadata": {},
     "output_type": "execute_result"
    }
   ],
   "source": [
    "sum"
   ]
  },
  {
   "cell_type": "markdown",
   "metadata": {},
   "source": [
    "\n",
    "Inplace rotate square matrix by 90 degrees | Set 1\n",
    "\n",
    "Given an square matrix, turn it by 90 degrees in anti-clockwise direction without using any extra space.\n",
    "\n",
    "##### Examples :\n",
    "\n",
    "#### Input\n",
    "\n",
    " 1  2  3\n",
    "\n",
    " 4  5  6\n",
    " \n",
    " 7  8  9\n",
    "\n",
    "##### Output:\n",
    " \n",
    " 3  6  9 \n",
    " \n",
    " 2  5  8 \n",
    " \n",
    " 1  4  7 \n",
    "\n",
    "##### Input:\n",
    " \n",
    " 1  2  3  4 \n",
    " \n",
    " 5  6  7  8 \n",
    " \n",
    " 9 10 11 12 \n",
    "\n",
    " 13 14 15 16 \n",
    "\n",
    "##### Output:\n",
    "\n",
    " 4  8 12 16 \n",
    "\n",
    " 3  7 11 15 \n",
    " \n",
    " 2  6 10 14 \n",
    " \n",
    " 1  5  9 13"
   ]
  },
  {
   "cell_type": "code",
   "execution_count": 91,
   "metadata": {},
   "outputs": [
    {
     "name": "stdout",
     "output_type": "stream",
     "text": [
      "4 8 12 16 \n",
      "3 7 11 15 \n",
      "2 6 10 14 \n",
      "1 5 9 13 \n"
     ]
    }
   ],
   "source": [
    "# Python3 program to rotate a matrix by 90 degrees \n",
    "N = 4\n",
    "  \n",
    "# An Inplace function to rotate  \n",
    "# N x N matrix by 90 degrees in \n",
    "# anti-clockwise direction \n",
    "def rotateMatrix(mat): \n",
    "      \n",
    "    # Consider all squares one by one \n",
    "    for x in range(0, int(N/2)): \n",
    "          \n",
    "        # Consider elements in group    \n",
    "        # of 4 in current square \n",
    "        for y in range(x, N-x-1): \n",
    "              \n",
    "            # store current cell in temp variable \n",
    "            temp = mat[x][y] \n",
    "  \n",
    "            # move values from right to top \n",
    "            mat[x][y] = mat[y][N-1-x] \n",
    "  \n",
    "            # move values from bottom to right \n",
    "            mat[y][N-1-x] = mat[N-1-x][N-1-y] \n",
    "  \n",
    "            # move values from left to bottom \n",
    "            mat[N-1-x][N-1-y] = mat[N-1-y][x] \n",
    "  \n",
    "            # assign temp to left \n",
    "            mat[N-1-y][x] = temp \n",
    "  \n",
    "  \n",
    "# Function to pr the matrix \n",
    "def displayMatrix( mat ): \n",
    "      \n",
    "    for i in range(0, N): \n",
    "          \n",
    "        for j in range(0, N): \n",
    "              \n",
    "            print (mat[i][j], end = ' ') \n",
    "        print (\"\") \n",
    "      \n",
    "      \n",
    "  \n",
    "  \n",
    "# Driver Code \n",
    "mat = [[0 for x in range(N)] for y in range(N)] \n",
    "  \n",
    "# Test case 1 \n",
    "mat = [ [1, 2, 3, 4 ], \n",
    "        [5, 6, 7, 8 ], \n",
    "        [9, 10, 11, 12 ], \n",
    "        [13, 14, 15, 16 ] ] \n",
    "          \n",
    "''' \n",
    "# Test case 2 \n",
    "mat = [ [1, 2, 3 ], \n",
    "        [4, 5, 6 ], \n",
    "        [7, 8, 9 ] ] \n",
    "  \n",
    "# Test case 3 \n",
    "mat = [ [1, 2 ], \n",
    "        [4, 5 ] ] \n",
    "          \n",
    "'''\n",
    "  \n",
    "rotateMatrix(mat) \n",
    "  \n",
    "# Print rotated matrix \n",
    "displayMatrix(mat) "
   ]
  },
  {
   "cell_type": "code",
   "execution_count": null,
   "metadata": {
    "collapsed": true
   },
   "outputs": [],
   "source": []
  }
 ],
 "metadata": {
  "kernelspec": {
   "display_name": "Python 3",
   "language": "python",
   "name": "python3"
  },
  "language_info": {
   "codemirror_mode": {
    "name": "ipython",
    "version": 3
   },
   "file_extension": ".py",
   "mimetype": "text/x-python",
   "name": "python",
   "nbconvert_exporter": "python",
   "pygments_lexer": "ipython3",
   "version": "3.6.8"
  }
 },
 "nbformat": 4,
 "nbformat_minor": 2
}

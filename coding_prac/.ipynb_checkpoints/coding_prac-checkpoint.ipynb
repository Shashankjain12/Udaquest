{
 "cells": [
  {
   "cell_type": "markdown",
   "metadata": {},
   "source": [
    "\n",
    "\n",
    "### Question 1.\n",
    "\n",
    "Given an unsorted array A of size N of non-negative integers, find a continuous sub-array which adds to a given number S.\n",
    "\n",
    "#### Input:\n",
    "\n",
    "The first line of input contains an integer T denoting the number of test cases. Then T test cases follow. Each test case \n",
    "\n",
    "consists of two lines. The first line of each test case is N and S, where N is the size of array and S is the sum. The \n",
    "\n",
    "second line of each test case contains N space separated integers denoting the array elements.\n",
    "\n",
    "\n",
    "#### Output:\n",
    "\n",
    "For each testcase, in a new line, print the starting and ending positions(1 indexing) of first such occuring subarray \n",
    "\n",
    "from the left if sum equals to subarray, else print -1.\n",
    "\n",
    "#### Constraints:\n",
    "\n",
    "1 <= T <= 100\n",
    "\n",
    "1 <= N <= 107\n",
    "\n",
    "1 <= Ai <= 1010\n",
    "\n",
    "\n",
    "#### Example:\n",
    "\n",
    "#### Input:\n",
    "\n",
    "2\n",
    "\n",
    "5 12\n",
    "\n",
    "1 2 3 7 5\n",
    "\n",
    "10 15\n",
    "\n",
    "1 2 3 4 5 6 7 8 9 10\n",
    "\n",
    "#### Output:\n",
    "\n",
    "2 4\n",
    "\n",
    "1 5\n",
    "\n",
    "\n",
    "Explanation :\n",
    "\n",
    "Testcase1: sum of elements from 2nd position to 4th position is 12\n",
    "\n",
    "Testcase2: sum of elements from 1st position to 5th position is 15\n",
    "\n",
    "** For More Input/Output Examples Use 'Expected Output' option **\n"
   ]
  },
  {
   "cell_type": "code",
   "execution_count": 27,
   "metadata": {},
   "outputs": [
    {
     "name": "stdout",
     "output_type": "stream",
     "text": [
      "2\n"
     ]
    }
   ],
   "source": [
    "test_cases=int(input())"
   ]
  },
  {
   "cell_type": "code",
   "execution_count": 28,
   "metadata": {},
   "outputs": [
    {
     "name": "stdout",
     "output_type": "stream",
     "text": [
      "5 12\n",
      "1 2 3 7 5\n",
      "10 15\n",
      "1 2 3 4 5 6 7 8 9 10\n"
     ]
    }
   ],
   "source": [
    "c=[]\n",
    "d=[]\n",
    "for i in range(0,test_cases):\n",
    "    n,sum1=list(map(int,input().split()))\n",
    "    b=list(map(int,input().split()))\n",
    "    sum2=0\n",
    "    for idx,j in enumerate(b):\n",
    "        for k in range(idx,len(b)): \n",
    "            sm1=sum(b[idx:len(b)-k])\n",
    "            flag=0\n",
    "            if sum1==sm1:\n",
    "                d.append(idx+1)\n",
    "                c.append(len(b)-k)\n",
    "                flag=1\n",
    "        if flag==1:\n",
    "            break"
   ]
  },
  {
   "cell_type": "code",
   "execution_count": 32,
   "metadata": {},
   "outputs": [
    {
     "name": "stdout",
     "output_type": "stream",
     "text": [
      "2 4\n",
      "1 5\n"
     ]
    }
   ],
   "source": [
    "print(d[0],c[0])\n",
    "print(d[1],c[1])"
   ]
  },
  {
   "cell_type": "markdown",
   "metadata": {},
   "source": [
    "### Question 2 Max Index\n",
    "\n",
    "Given an array A[] of N positive integers. The task is to find the maximum of j - i subjected to the constraint of A[i] <= A[j].\n",
    "\n",
    "#### Input:\n",
    "The first line contains an integer T, depicting total number of test cases.  Then T test case follows. First line of each test case contains an integer N denoting the size of the array. Next line contains N space separated integeres denoting the elements of the array.\n",
    "\n",
    "#### Output:\n",
    "Print the maximum difference of the indexes i and j in a separtate line.\n",
    "\n",
    "#### Constraints:\n",
    "1 ≤ T ≤ 1000\n",
    "\n",
    "1 ≤ N ≤ 107\n",
    "\n",
    "0 ≤ A[i] ≤ 1018\n",
    "\n",
    "#### Example:\n",
    "#### Input:\n",
    "1\n",
    "\n",
    "9\n",
    "\n",
    "34 8 10 3 2 80 30 33 1\n",
    "\n",
    "#### Output:\n",
    "\n",
    "6\n",
    "\n",
    "#### Explanation:\n",
    "Testcase 1:  In the given array A[1] < A[7] satisfying the required condition(A[i] <= A[j]) thus giving the maximum difference of j - i which is 6(7-1)."
   ]
  },
  {
   "cell_type": "code",
   "execution_count": 33,
   "metadata": {},
   "outputs": [
    {
     "name": "stdout",
     "output_type": "stream",
     "text": [
      "1\n"
     ]
    }
   ],
   "source": [
    "test_cases=int(input())"
   ]
  },
  {
   "cell_type": "code",
   "execution_count": 34,
   "metadata": {},
   "outputs": [
    {
     "name": "stdout",
     "output_type": "stream",
     "text": [
      "9\n"
     ]
    }
   ],
   "source": [
    "n=int(input())"
   ]
  },
  {
   "cell_type": "code",
   "execution_count": 35,
   "metadata": {},
   "outputs": [
    {
     "name": "stdout",
     "output_type": "stream",
     "text": [
      "34 8 10 3 2 80 30 33 1\n"
     ]
    }
   ],
   "source": [
    "c=list(map(int,input().split()))"
   ]
  },
  {
   "cell_type": "code",
   "execution_count": 36,
   "metadata": {},
   "outputs": [
    {
     "data": {
      "text/plain": [
       "[34, 8, 10, 3, 2, 80, 30, 33, 1]"
      ]
     },
     "execution_count": 36,
     "metadata": {},
     "output_type": "execute_result"
    }
   ],
   "source": [
    "c"
   ]
  },
  {
   "cell_type": "code",
   "execution_count": 37,
   "metadata": {
    "collapsed": true
   },
   "outputs": [],
   "source": [
    "a=0\n",
    "for idx,i in enumerate(c):\n",
    "    for j in range(idx+1,len(c)):\n",
    "        if c[idx]<=j:\n",
    "            b=j-c[idx]\n",
    "            if a<b:\n",
    "                a=b"
   ]
  },
  {
   "cell_type": "code",
   "execution_count": 39,
   "metadata": {},
   "outputs": [
    {
     "name": "stdout",
     "output_type": "stream",
     "text": [
      "6\n"
     ]
    }
   ],
   "source": [
    "print(a)"
   ]
  },
  {
   "cell_type": "code",
   "execution_count": null,
   "metadata": {
    "collapsed": true
   },
   "outputs": [],
   "source": []
  }
 ],
 "metadata": {
  "kernelspec": {
   "display_name": "Python 3",
   "language": "python",
   "name": "python3"
  }
 },
 "nbformat": 4,
 "nbformat_minor": 2
}

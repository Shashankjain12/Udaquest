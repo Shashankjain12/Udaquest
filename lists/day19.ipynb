{
 "cells": [
  {
   "cell_type": "markdown",
   "metadata": {},
   "source": [
    "<h1><center>Day 19</center></h1>\n",
    "\n",
    "## General Questions"
   ]
  },
  {
   "cell_type": "markdown",
   "metadata": {},
   "source": [
    "### 1. What is Python really?\n",
    "### 2. Fill in the missing code:def print_directory_contents(sPath):\n",
    "\n",
    "       \"\"\"\n",
    "   \n",
    "       This function takes the name of a directory\n",
    "   \n",
    "       and prints out the paths files within that\n",
    "   \n",
    "       directory as well as any files contained in\n",
    "   \n",
    "       contained directories.  \n",
    "   \n",
    "       This function is similar to os.walk. Please don't\n",
    "\n",
    "       use os.walk in your answer. We are interested in your\n",
    "   \n",
    "       ability to work with nested structures.\n",
    "   \n",
    "       \"\"\"\n",
    "   \n",
    "       fill_this_in\n",
    "   \n",
    "### 3.Looking at the below code, write down the final values of A0, A1, ...An.\n",
    "   \n",
    "    A0 = dict(zip(('a','b','c','d','e'),(1,2,3,4,5)))\n",
    "\n",
    "    A1 = range(10)\n",
    "\n",
    "    A2 = sorted([i for i in A1 if i in A0])\n",
    "\n",
    "    A3 = sorted([A0[s] for s in A0])\n",
    "\n",
    "    A4 = [i for i in A1 if i in A3]\n",
    "\n",
    "    A5 = {i:i*i for i in A1}\n",
    "\n",
    "    A6 = [[i,i*i] for i in A1]\n",
    "\n",
    "### 4.Python and multi-threading. Is it a good idea? List some ways to get some Python code to run in a parallel way.\n",
    "\n",
    "### 5.How do you keep track of different versions of your code?"
   ]
  },
  {
   "cell_type": "markdown",
   "metadata": {},
   "source": [
    "## Q1 What is Python really?\n",
    "\n",
    "1. Python is an interpreted language. That means that, unlike languages like C and its variants, Python does not need to be compiled before it is run. Other interpreted languages include PHP and Ruby.\n",
    "\n",
    "2. Python is dynamically typed, this means that you don't need to state the types of variables when you declare them or anything like that. You can do things like x=111 and then x=\"I'm a string\" without error\n",
    "\n",
    "3. Python is well suited to object orientated programming in that it allows the definition of classes along with composition and inheritance. Python does not have access specifiers (like C++'s public, private), the justification for this point is given as \"we are all adults here\"\n",
    "\n",
    "4. In Python, functions are first-class objects. This means that they can be assigned to variables, returned from other functions and passed into functions. Classes are also first class objects\n",
    "\n",
    "5. Writing Python code is quick but running it is often slower than compiled languages. Fortunately， Python allows the inclusion of C based extensions so bottlenecks can be optimised away and often are. The numpy package is a good example of this, it's really quite quick because a lot of the number crunching it does isn't actually done by Python\n",
    "\n",
    "6. Python finds use in many spheres - web applications, automation, scientific modelling, big data applications and many more. It's also often used as \"glue\" code to get other languages and components to play nice.\n",
    "\n",
    "7. Python makes difficult things easy so programmers can focus on overriding algorithms and structures rather than nitty-gritty low level details.\n"
   ]
  },
  {
   "cell_type": "code",
   "execution_count": 2,
   "metadata": {},
   "outputs": [],
   "source": [
    "# Q2 \n",
    "import os\n"
   ]
  },
  {
   "cell_type": "code",
   "execution_count": 32,
   "metadata": {
    "collapsed": true
   },
   "outputs": [],
   "source": [
    "def fun(dir1):\n",
    "    for i in os.listdir(dir1):\n",
    "        j=os.path.join(dir1,i)\n",
    "        if os.path.isfile(j):\n",
    "            print(j)\n",
    "        else:\n",
    "            print(j)\n",
    "            fun(j)\n"
   ]
  },
  {
   "cell_type": "code",
   "execution_count": 33,
   "metadata": {},
   "outputs": [
    {
     "name": "stdout",
     "output_type": "stream",
     "text": [
      "./ac\n",
      "./ac/abc\n",
      "./Day1.ipynb\n",
      "./.ipynb_checkpoints\n",
      "./.ipynb_checkpoints/Day 2-checkpoint.ipynb\n",
      "./.ipynb_checkpoints/Day1-checkpoint.ipynb\n",
      "./.ipynb_checkpoints/day19-checkpoint.ipynb\n",
      "./Day 2.ipynb\n",
      "./day19.ipynb\n"
     ]
    }
   ],
   "source": [
    "fun(\"./\")"
   ]
  },
  {
   "cell_type": "code",
   "execution_count": 18,
   "metadata": {},
   "outputs": [],
   "source": [
    "#3\n",
    "A0=dict(zip(('a','b','c','d','e'),(1,2,3,4,5)))\n",
    "A1 = range(10)\n",
    "A2 = sorted([i for i in A1 if i in A0])\n",
    "A3 = sorted([A0[s] for s in A0])\n",
    "A4 = [i for i in A1 if i in A3]\n",
    "A5 = {i:i*i for i in A1}\n",
    "A6 = [[i,i*i] for i in A1]"
   ]
  },
  {
   "cell_type": "code",
   "execution_count": 24,
   "metadata": {},
   "outputs": [
    {
     "name": "stdout",
     "output_type": "stream",
     "text": [
      "{'a': 1, 'b': 2, 'c': 3, 'd': 4, 'e': 5}\n"
     ]
    }
   ],
   "source": [
    "print(A0)"
   ]
  },
  {
   "cell_type": "code",
   "execution_count": 25,
   "metadata": {},
   "outputs": [
    {
     "name": "stdout",
     "output_type": "stream",
     "text": [
      "range(0, 10)\n"
     ]
    }
   ],
   "source": [
    "print(A1)"
   ]
  },
  {
   "cell_type": "code",
   "execution_count": 26,
   "metadata": {},
   "outputs": [
    {
     "name": "stdout",
     "output_type": "stream",
     "text": [
      "[]\n"
     ]
    }
   ],
   "source": [
    "print(A2)"
   ]
  },
  {
   "cell_type": "code",
   "execution_count": 27,
   "metadata": {},
   "outputs": [
    {
     "name": "stdout",
     "output_type": "stream",
     "text": [
      "[1, 2, 3, 4, 5]\n"
     ]
    }
   ],
   "source": [
    "print(A3)"
   ]
  },
  {
   "cell_type": "code",
   "execution_count": 28,
   "metadata": {},
   "outputs": [
    {
     "name": "stdout",
     "output_type": "stream",
     "text": [
      "[1, 2, 3, 4, 5]\n"
     ]
    }
   ],
   "source": [
    "print(A4)"
   ]
  },
  {
   "cell_type": "code",
   "execution_count": 29,
   "metadata": {},
   "outputs": [
    {
     "name": "stdout",
     "output_type": "stream",
     "text": [
      "{0: 0, 1: 1, 2: 4, 3: 9, 4: 16, 5: 25, 6: 36, 7: 49, 8: 64, 9: 81}\n"
     ]
    }
   ],
   "source": [
    "print(A5)"
   ]
  },
  {
   "cell_type": "code",
   "execution_count": 30,
   "metadata": {},
   "outputs": [
    {
     "name": "stdout",
     "output_type": "stream",
     "text": [
      "[[0, 0], [1, 1], [2, 4], [3, 9], [4, 16], [5, 25], [6, 36], [7, 49], [8, 64], [9, 81]]\n"
     ]
    }
   ],
   "source": [
    "print(A6)"
   ]
  },
  {
   "cell_type": "markdown",
   "metadata": {},
   "source": [
    "## Q4 Python and multi-threading. Is it a good idea? List some ways to get some Python code to run in a parallel way.?\n",
    "\n",
    "Python doesn't allow multi-threading in the truest sense of the word. It has a multi-threading package but if you want to multi-thread to speed your code up, then it's usually not a good idea to use it. Python has a construct called the Global Interpreter Lock (GIL). The GIL makes sure that only one of your 'threads' can execute at any one time. A thread acquires the GIL, does a little work, then passes the GIL onto the next thread. This happens very quickly so to the human eye it may seem like your threads are executing in parallel, but they are really just taking turns using the same CPU core. All this GIL passing adds overhead to execution. This means that if you want to make your code run faster then using the threading package often isn't a good idea.\n",
    "\n",
    "There are reasons to use Python's threading package. If you want to run some things simultaneously, and efficiency is not a concern, then it's totally fine and convenient. Or if you are running code that needs to wait for something (like some IO) then it could make a lot of sense. But the threading library won't let you use extra CPU cores.\n",
    "\n",
    "Multi-threading can be outsourced to the operating system (by doing multi-processing), some external application that calls your Python code (eg, Spark or Hadoop), or some code that your Python code calls (eg: you could have your Python code call a C function that does the expensive multi-threaded stuff)."
   ]
  },
  {
   "cell_type": "markdown",
   "metadata": {},
   "source": [
    "## Q5.How do you keep track of different versions of your code?\n",
    "\n",
    "Version control! At this point, you should act excited and tell them how you even use Git (or whatever is your favorite) to keep track of correspondence with Granny. Git is my preferred version control system, but there are others, for example subversion."
   ]
  },
  {
   "cell_type": "code",
   "execution_count": null,
   "metadata": {
    "collapsed": true
   },
   "outputs": [],
   "source": []
  }
 ],
 "metadata": {
  "kernelspec": {
   "display_name": "Python 3",
   "language": "python",
   "name": "python3"
  },
  "language_info": {
   "codemirror_mode": {
    "name": "ipython",
    "version": 3
   },
   "file_extension": ".py",
   "mimetype": "text/x-python",
   "name": "python",
   "nbconvert_exporter": "python",
   "pygments_lexer": "ipython3",
   "version": "3.6.8"
  }
 },
 "nbformat": 4,
 "nbformat_minor": 2
}

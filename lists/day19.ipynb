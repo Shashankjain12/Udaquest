{
 "cells": [
  {
   "cell_type": "markdown",
   "metadata": {},
   "source": [
    "<h1><center>Day 19</center></h1>\n",
    "\n",
    "## General Questions"
   ]
  },
  {
   "cell_type": "markdown",
   "metadata": {},
   "source": [
    "1. What is Python really?\n",
    "2. Fill in the missing code:def print_directory_contents(sPath):\n",
    "\n",
    "   \"\"\"\n",
    "   \n",
    "   This function takes the name of a directory\n",
    "   \n",
    "   and prints out the paths files within that\n",
    "   \n",
    "   directory as well as any files contained in\n",
    "   \n",
    "   contained directories.  \n",
    "   \n",
    "   This function is similar to os.walk. Please don't\n",
    "\n",
    "   use os.walk in your answer. We are interested in your\n",
    "   \n",
    "   ability to work with nested structures.\n",
    "   \n",
    "   \"\"\"\n",
    "   \n",
    "   fill_this_in3. Looking at the below code, write down the final values of A0, A1, ...An.A0 = \n",
    "   dict(zip(('a','b','c','d','e'),(1,2,3,4,5)))\n",
    "\n",
    "A1 = range(10)\n",
    "\n",
    "A2 = sorted([i for i in A1 if i in A0])\n",
    "\n",
    "A3 = sorted([A0[s] for s in A0])\n",
    "\n",
    "A4 = [i for i in A1 if i in A3]\n",
    "\n",
    "A5 = {i:i*i for i in A1}\n",
    "\n",
    "A6 = [[i,i*i] for i in A1]4. Python and multi-threading. Is it a good idea? List some ways to get some Python code to run in a parallel way.\n",
    "\n",
    "5 .How do you keep track of different versions of your code?"
   ]
  },
  {
   "cell_type": "markdown",
   "metadata": {},
   "source": [
    "## Q1 What is Python really?\n",
    "\n",
    "Python is a High level interpreted language which supports multi paradigm programming in a sense that it supports basic , modular , functional , object oriented  and other types of programming."
   ]
  },
  {
   "cell_type": "code",
   "execution_count": 2,
   "metadata": {},
   "outputs": [],
   "source": [
    "# Q2 \n",
    "import os\n"
   ]
  },
  {
   "cell_type": "code",
   "execution_count": 3,
   "metadata": {
    "collapsed": true
   },
   "outputs": [],
   "source": [
    "def fun(dir1):\n",
    "    for i in os.listdir(dir1):\n",
    "        if os.path.isfile(dir1+\"/\"+i):\n",
    "            print(i)\n",
    "        else:\n",
    "            fun(i)\n"
   ]
  },
  {
   "cell_type": "code",
   "execution_count": null,
   "metadata": {},
   "outputs": [],
   "source": []
  },
  {
   "cell_type": "code",
   "execution_count": null,
   "metadata": {
    "collapsed": true
   },
   "outputs": [],
   "source": []
  }
 ],
 "metadata": {
  "kernelspec": {
   "display_name": "Python 3",
   "language": "python",
   "name": "python3"
  },
  "language_info": {
   "codemirror_mode": {
    "name": "ipython",
    "version": 3
   },
   "file_extension": ".py",
   "mimetype": "text/x-python",
   "name": "python",
   "nbconvert_exporter": "python",
   "pygments_lexer": "ipython3",
   "version": "3.6.8"
  }
 },
 "nbformat": 4,
 "nbformat_minor": 2
}

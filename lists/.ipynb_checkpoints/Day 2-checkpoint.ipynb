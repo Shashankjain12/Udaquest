{
 "cells": [
  {
   "cell_type": "markdown",
   "metadata": {},
   "source": [
    "<h1><center>LISTS</center></h1>\n",
    "\n",
    "## Questions\n",
    "\n",
    "Q1. How Can I Sort a List?\n",
    "\n",
    "Q2. How To Clone Or Copy a List\n",
    "\n",
    "Q3. How Does List Comprehension Work?\n",
    "\n",
    "Q4. How Do I Count Occurrences of a List Item?\n",
    "\n",
    "Q5. How Do I Split a List into Evenly Sized Chunks?\n",
    "\n",
    "Q6. How Do I Loop over a List?\n",
    "\n",
    "Q7. How Do I Get an Intersection Of Two Lists?\n",
    "\n",
    "Q8. How Do I Remove Duplicates From a List?\n",
    "\n",
    "Q9. What’s The Difference Between The append() and extend() Methods?\n",
    "\n",
    "Q10. How Do I Create Flat Lists Out Of Lists?"
   ]
  },
  {
   "cell_type": "markdown",
   "metadata": {},
   "source": [
    "## ANSWERS"
   ]
  },
  {
   "cell_type": "markdown",
   "metadata": {},
   "source": [
    "### Q1. How Can I Sort a List?\n",
    "You use the sort() method of Python lists or you use the sorted() function and pass a list to it. The sorted() function can be applied to any Iterable object, which means that it also accepts strings, sets, dictionaries when they are passed to it!\n",
    "\n",
    "### Q2. How To Clone Or Copy a List\n",
    "You can slice your original list and store it into a new variable or  you can use the built-in list() function. You can also use the copy library with the copy() method. Lastly, if your list contains objects and you want to copy those as well, you can use copy.deepcopy().\n",
    "\n",
    "### Q3. How Does List Comprehension Work?\n",
    "List comprehension is, basically speaking, a way of elegantly constructing your Python lists. The best thing about this for those who love math is the fact that they look a lot like mathematical lists. In in a more general sense, you can also use list comprehension to transform your lists into other lists, which sounds a bit more difficult, doesn’t it?\n",
    "\n",
    "### Q4 How do i count occurences in the list?\n",
    "\n",
    "Counting all items in a Python list with count() & Counting all Python list items with Counter()\n",
    "\n",
    "### Q5. How Do I Split a List into Evenly Sized Chunks?\n",
    "To split your list up into parts of the same size, you can resort to the zip() function in combination with iter().\n",
    "\n",
    "### Q6. How Do I Loop over a List?\n",
    "You can easily loop through any list with a for loop.\n",
    "\n",
    "### Q7. How Do I Get an Intersection Of Two Lists?\n",
    "List Intersection Using List Comprehension\n",
    "If you want to obtain the intersection of two lists, you can use the filter() function.\n",
    "If the order of your elements is not important and if you don’t need to worry about duplicates then you can use set intersection.\n",
    "\n",
    "### Q8. How Do I Remove Duplicates From a List?\n",
    "It’s best to select a set if you want to store a unique collection of unordered items.\n",
    "To create a set from any iterable, you can simply pass it to the built-in set() function. If you later need a real list again, you can similarly pass the set to the list() function.\n",
    "\n",
    "### Q9. What’s The Difference Between The append() and extend() Methods?\n",
    "The extend() method, on the one hand, takes an iterable (that’s right, it takes a list, set, tuple or string!), and adds each element of the iterable to the list one at a time.\n",
    "The append() method , on the other hand, adds its argument to the end of the list as a single item, which means that when the append() function takes an iterable as its argument, it will treat it as a single object.\n",
    "\n",
    "### Q10. How Do I Create Flat Lists Out Of Lists?\n",
    "To make a simple list out of a list of lists, you can use the sum() function. Just don’t forget to pass your list and an empty list to it."
   ]
  },
  {
   "cell_type": "code",
   "execution_count": null,
   "metadata": {},
   "outputs": [],
   "source": []
  },
  {
   "cell_type": "code",
   "execution_count": null,
   "metadata": {
    "collapsed": true
   },
   "outputs": [],
   "source": []
  },
  {
   "cell_type": "code",
   "execution_count": null,
   "metadata": {},
   "outputs": [],
   "source": []
  },
  {
   "cell_type": "code",
   "execution_count": null,
   "metadata": {
    "collapsed": true
   },
   "outputs": [],
   "source": []
  }
 ],
 "metadata": {
  "kernelspec": {
   "display_name": "Python 3",
   "language": "python",
   "name": "python3"
  },
  "language_info": {
   "codemirror_mode": {
    "name": "ipython",
    "version": 3
   },
   "file_extension": ".py",
   "mimetype": "text/x-python",
   "name": "python",
   "nbconvert_exporter": "python",
   "pygments_lexer": "ipython3",
   "version": "3.6.8"
  }
 },
 "nbformat": 4,
 "nbformat_minor": 2
}
